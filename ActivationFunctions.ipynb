{
  "nbformat": 4,
  "nbformat_minor": 0,
  "metadata": {
    "colab": {
      "name": "ActivationFunctions.ipynb",
      "provenance": [],
      "collapsed_sections": [],
      "authorship_tag": "ABX9TyMyKqvfW+F10YZLPVD901yA",
      "include_colab_link": true
    },
    "kernelspec": {
      "name": "python3",
      "display_name": "Python 3"
    },
    "language_info": {
      "name": "python"
    }
  },
  "cells": [
    {
      "cell_type": "markdown",
      "metadata": {
        "id": "view-in-github",
        "colab_type": "text"
      },
      "source": [
        "<a href=\"https://colab.research.google.com/github/Iniyavel123/DeepLearning/blob/main/ActivationFunctions.ipynb\" target=\"_parent\"><img src=\"https://colab.research.google.com/assets/colab-badge.svg\" alt=\"Open In Colab\"/></a>"
      ]
    },
    {
      "cell_type": "code",
      "metadata": {
        "id": "f-OolyQ8DxhW"
      },
      "source": [
        "# sigmoid function\n",
        "def sigmoid(x):\n",
        "  return 1/(1+np.exp(-x))\n"
      ],
      "execution_count": null,
      "outputs": []
    },
    {
      "cell_type": "code",
      "metadata": {
        "id": "qZlsmA4sECDa"
      },
      "source": [
        "# tanh function\n",
        "def tanh(x):\n",
        "  numerator = 1-np.exp(-2*x)\n",
        "  denominator = 1+np.exp(-2*x)\n",
        "\n",
        "  return numerator/denominator\n"
      ],
      "execution_count": null,
      "outputs": []
    },
    {
      "cell_type": "code",
      "metadata": {
        "id": "ihCPO32fEXV1"
      },
      "source": [
        "# ReLU function\n",
        "def ReLU(x):\n",
        "  if x < 0:\n",
        "    return 0\n",
        "  else:\n",
        "    return x\n"
      ],
      "execution_count": null,
      "outputs": []
    },
    {
      "cell_type": "code",
      "metadata": {
        "id": "OIkoDnnOEkO1"
      },
      "source": [
        "# leaky ReLU function\n",
        "def leakyReLU(x, alpha=0.01):\n",
        "  if x < 0:\n",
        "    return (alpha*x)\n",
        "  else:\n",
        "    return x\n"
      ],
      "execution_count": null,
      "outputs": []
    },
    {
      "cell_type": "code",
      "metadata": {
        "id": "lX6WIi20E0eJ"
      },
      "source": [
        "# exponential linear unit function\n",
        "def elu(x, alpha=0.01):\n",
        "  if x < 0:\n",
        "    return (alpha*(np.exp(x)-1))\n",
        "  else:\n",
        "    return x\n"
      ],
      "execution_count": null,
      "outputs": []
    },
    {
      "cell_type": "code",
      "metadata": {
        "id": "ndtVgLfiE1NM"
      },
      "source": [
        "# swish function\n",
        "def swish(x, beta):\n",
        "  return x*2*sigmoid(beta*x)"
      ],
      "execution_count": null,
      "outputs": []
    },
    {
      "cell_type": "code",
      "metadata": {
        "id": "lsF4xni5FfAQ"
      },
      "source": [
        "# softmax function\n",
        "def softmax(x):\n",
        "  return np.exp(x)/np.exp(x).sum(axis=0)"
      ],
      "execution_count": null,
      "outputs": []
    }
  ]
}